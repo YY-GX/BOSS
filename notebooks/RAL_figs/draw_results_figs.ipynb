{
 "cells": [
  {
   "metadata": {
    "ExecuteTime": {
     "end_time": "2025-01-20T19:11:01.921594Z",
     "start_time": "2025-01-20T19:11:01.920103Z"
    }
   },
   "cell_type": "code",
   "source": "",
   "id": "8d740c6bac932279",
   "outputs": [],
   "execution_count": null
  },
  {
   "cell_type": "code",
   "id": "initial_id",
   "metadata": {
    "collapsed": true,
    "ExecuteTime": {
     "end_time": "2025-01-20T18:50:13.916606Z",
     "start_time": "2025-01-20T18:50:13.649904Z"
    }
   },
   "source": [
    "import pandas as pd\n",
    "\n",
    "# First table data\n",
    "sr_ori_data_first = [\n",
    "    [0.98, 0.73, 0.78, 0.97, 0.00, 0.02, 0.63, 0.05, 0.15, 0.00, 0.07, 0.63, 0.00, 0.52, 0.40, 1.00, 0.98, 0.00, 0.27, 0.25, 0.63, 0.52],\n",
    "    [1.00, 1.00, 1.00, 0.95, 0.93, 1.00, 0.95, 0.83, 0.82, 0.63, 0.97, 0.92, 0.42, 1.00, 0.87, 1.00, 0.98, 0.90, 0.92, 0.73, 0.73, 1.00],\n",
    "    [1.00, 1.00, 0.98, 0.95, 0.95, 0.98, 0.98, 0.87, 0.68, 0.55, 0.98, 0.90, 0.92, 0.90, 0.98, 1.00, 1.00, 0.98, 0.98, 0.70, 0.63, 1.00],\n",
    "    [1.00, 1.00, 0.65, 1.00, 1.00, 1.00, 1.00, 1.00, 1.00, 1.00, 1.00, 0.70, 0.65, 0.65, 0.50, 0.75, 0.80, 1.00, 0.85, 0.80, 0.95, 0.40]\n",
    "]\n",
    "\n",
    "sr_mod_data_first = [\n",
    "    [1.00, 0.20, 0.65, 0.32, 0.02, 0.00, 0.00, 0.02, 0.07, 0.00, 0.08, 0.23, 0.00, 0.60, 0.10, 0.37, 0.43, 0.00, 0.37, 0.27, 0.52, 0.32],\n",
    "    [1.00, 0.67, 0.93, 0.12, 0.82, 0.22, 0.98, 0.62, 0.17, 0.62, 1.00, 0.53, 0.52, 0.87, 0.57, 1.00, 0.93, 0.12, 0.63, 0.78, 0.58, 0.97],\n",
    "    [1.00, 0.65, 1.00, 0.97, 0.82, 0.13, 0.97, 0.92, 0.30, 0.68, 0.73, 0.28, 0.88, 0.68, 0.77, 1.00, 1.00, 0.00, 0.73, 0.63, 0.67, 1.00],\n",
    "    [0.35, 1.00, 0.55, 0.00, 1.00, 0.70, 0.00, 1.00, 0.30, 0.65, 0.35, 1.00, 1.00, 0.55, 0.75, 0.20, 0.75, 0.05, 0.55, 0.35, 0.15, 1.00]\n",
    "]\n",
    "\n",
    "pd_data_first = [\n",
    "    [-0.02, 0.53, 0.13, 0.65, -0.02, 0.02, 0.63, 0.03, 0.08, 0.00, -0.02, 0.40, 0.00, -0.08, 0.30, 0.63, 0.55, 0.00, -0.10, -0.02, 0.12, 0.20],\n",
    "    [0.00, 0.33, 0.07, 0.83, 0.12, 0.78, -0.03, 0.22, 0.65, 0.02, -0.03, 0.38, -0.10, 0.13, 0.30, 0.00, 0.05, 0.78, 0.28, -0.05, 0.15, 0.03],\n",
    "    [0.00, 0.35, -0.02, -0.02, 0.13, 0.85, 0.02, -0.05, 0.38, -0.13, 0.25, 0.62, 0.03, 0.22, 0.22, 0.00, 0.00, 0.98, 0.25, 0.07, -0.03, 0.00],\n",
    "    [0.65, 0.00, 0.10, 1.00, 0.00, 0.30, 1.00, 0.00, 0.70, 0.35, 0.35, -0.35, -0.35, -0.05, 0.00, 0.60, 0.25, 0.80, 0.25, 0.60, 0.25, 0.00]\n",
    "]\n",
    "\n",
    "# Second table data\n",
    "sr_ori_data_second = [\n",
    "    [0.87, 0.00, 0.03, 0.15, 0.33, 1.00, 0.65, 0.45, 0.58, 0.85, 0.75, 0.18, 0.92, 0.73, 1.00, 0.00, 0.02, 0.15, 0.08, 0.07, 0.12, 0.45],\n",
    "    [0.72, 0.02, 0.00, 0.07, 0.52, 0.95, 0.40, 0.07, 0.65, 0.23, 0.35, 0.00, 0.63, 0.00, 1.00, 0.00, 0.00, 0.00, 0.00, 0.02, 0.00, 0.03],\n",
    "    [0.00, 0.35, -0.02, -0.02, 0.13, 0.85, 0.02, -0.05, 0.38, -0.13, 0.25, 0.62, 0.03, 0.22, 0.22, 0.00, 0.00, 0.98, 0.25, 0.07, -0.03, 0.00],\n",
    "    [0.65, 0.00, 0.10, 1.00, 0.00, 0.30, 1.00, 0.00, 0.70, 0.35, 0.35, -0.35, -0.35, -0.05, 0.00, 0.60, 0.25, 0.80, 0.25, 0.60, 0.25, 0.00]\n",
    "]\n",
    "\n",
    "# Combine both first and second table data into the final arrays\n",
    "sr_ori_data_combined = sr_ori_data_first + sr_ori_data_second\n",
    "sr_mod_data_combined = sr_mod_data_first + sr_mod_data_second\n",
    "pd_data_combined = pd_data_first + pd_data_second\n",
    "\n",
    "# Creating the DataFrame for combined data\n",
    "df_combined = pd.DataFrame({\n",
    "    \"Method\": ['BC-RESNET-RNN', 'BC-RESNET-T', 'BC-VIT-T', 'OpenVLA'] * 11,\n",
    "    \"Task\": list(range(22, 44)) * 4,\n",
    "    \"SR_ORI\": [item for sublist in sr_ori_data_combined for item in sublist],\n",
    "    \"SR_MOD\": [item for sublist in sr_mod_data_combined for item in sublist],\n",
    "    \"PD\": [item for sublist in pd_data_combined for item in sublist]\n",
    "})\n",
    "\n",
    "# Display the combined DataFrame\n",
    "import ace_tools as tools; tools.display_dataframe_to_user(name=\"Combined Data Table\", dataframe=df_combined)\n"
   ],
   "outputs": [
    {
     "ename": "ValueError",
     "evalue": "All arrays must be of the same length",
     "output_type": "error",
     "traceback": [
      "\u001B[0;31m---------------------------------------------------------------------------\u001B[0m",
      "\u001B[0;31mValueError\u001B[0m                                Traceback (most recent call last)",
      "Cell \u001B[0;32mIn[2], line 44\u001B[0m\n\u001B[1;32m     31\u001B[0m pd_data_combined \u001B[38;5;241m=\u001B[39m [\n\u001B[1;32m     32\u001B[0m     [\u001B[38;5;241m-\u001B[39m\u001B[38;5;241m0.02\u001B[39m, \u001B[38;5;241m0.53\u001B[39m, \u001B[38;5;241m0.13\u001B[39m, \u001B[38;5;241m0.65\u001B[39m, \u001B[38;5;241m-\u001B[39m\u001B[38;5;241m0.02\u001B[39m, \u001B[38;5;241m0.02\u001B[39m, \u001B[38;5;241m0.63\u001B[39m, \u001B[38;5;241m0.03\u001B[39m, \u001B[38;5;241m0.08\u001B[39m, \u001B[38;5;241m0.00\u001B[39m, \u001B[38;5;241m-\u001B[39m\u001B[38;5;241m0.02\u001B[39m, \u001B[38;5;241m0.40\u001B[39m, \u001B[38;5;241m0.00\u001B[39m, \u001B[38;5;241m-\u001B[39m\u001B[38;5;241m0.08\u001B[39m, \u001B[38;5;241m0.30\u001B[39m, \u001B[38;5;241m0.63\u001B[39m, \u001B[38;5;241m0.55\u001B[39m, \u001B[38;5;241m0.00\u001B[39m, \u001B[38;5;241m-\u001B[39m\u001B[38;5;241m0.10\u001B[39m, \u001B[38;5;241m-\u001B[39m\u001B[38;5;241m0.02\u001B[39m, \u001B[38;5;241m0.12\u001B[39m, \u001B[38;5;241m0.20\u001B[39m],\n\u001B[1;32m     33\u001B[0m     [\u001B[38;5;241m0.00\u001B[39m, \u001B[38;5;241m0.33\u001B[39m, \u001B[38;5;241m0.07\u001B[39m, \u001B[38;5;241m0.83\u001B[39m, \u001B[38;5;241m0.12\u001B[39m, \u001B[38;5;241m0.78\u001B[39m, \u001B[38;5;241m-\u001B[39m\u001B[38;5;241m0.03\u001B[39m, \u001B[38;5;241m0.22\u001B[39m, \u001B[38;5;241m0.65\u001B[39m, \u001B[38;5;241m0.02\u001B[39m, \u001B[38;5;241m-\u001B[39m\u001B[38;5;241m0.03\u001B[39m, \u001B[38;5;241m0.38\u001B[39m, \u001B[38;5;241m-\u001B[39m\u001B[38;5;241m0.10\u001B[39m, \u001B[38;5;241m0.13\u001B[39m, \u001B[38;5;241m0.30\u001B[39m, \u001B[38;5;241m0.00\u001B[39m, \u001B[38;5;241m0.05\u001B[39m, \u001B[38;5;241m0.78\u001B[39m, \u001B[38;5;241m0.28\u001B[39m, \u001B[38;5;241m-\u001B[39m\u001B[38;5;241m0.05\u001B[39m, \u001B[38;5;241m0.15\u001B[39m, \u001B[38;5;241m0.03\u001B[39m],\n\u001B[0;32m   (...)\u001B[0m\n\u001B[1;32m     40\u001B[0m     [\u001B[38;5;241m-\u001B[39m\u001B[38;5;241m0.02\u001B[39m, \u001B[38;5;241m0.53\u001B[39m, \u001B[38;5;241m0.13\u001B[39m, \u001B[38;5;241m0.65\u001B[39m, \u001B[38;5;241m-\u001B[39m\u001B[38;5;241m0.02\u001B[39m, \u001B[38;5;241m0.02\u001B[39m, \u001B[38;5;241m0.63\u001B[39m, \u001B[38;5;241m0.03\u001B[39m, \u001B[38;5;241m0.08\u001B[39m, \u001B[38;5;241m0.00\u001B[39m, \u001B[38;5;241m-\u001B[39m\u001B[38;5;241m0.02\u001B[39m, \u001B[38;5;241m0.40\u001B[39m, \u001B[38;5;241m0.00\u001B[39m, \u001B[38;5;241m-\u001B[39m\u001B[38;5;241m0.08\u001B[39m, \u001B[38;5;241m0.30\u001B[39m, \u001B[38;5;241m0.63\u001B[39m, \u001B[38;5;241m0.55\u001B[39m, \u001B[38;5;241m0.00\u001B[39m, \u001B[38;5;241m-\u001B[39m\u001B[38;5;241m0.10\u001B[39m, \u001B[38;5;241m-\u001B[39m\u001B[38;5;241m0.02\u001B[39m, \u001B[38;5;241m0.12\u001B[39m, \u001B[38;5;241m0.20\u001B[39m]\n\u001B[1;32m     41\u001B[0m ]\n\u001B[1;32m     43\u001B[0m \u001B[38;5;66;03m# Creating the DataFrame for combined data\u001B[39;00m\n\u001B[0;32m---> 44\u001B[0m df_combined \u001B[38;5;241m=\u001B[39m \u001B[43mpd\u001B[49m\u001B[38;5;241;43m.\u001B[39;49m\u001B[43mDataFrame\u001B[49m\u001B[43m(\u001B[49m\u001B[43m{\u001B[49m\n\u001B[1;32m     45\u001B[0m \u001B[43m    \u001B[49m\u001B[38;5;124;43m\"\u001B[39;49m\u001B[38;5;124;43mMethod\u001B[39;49m\u001B[38;5;124;43m\"\u001B[39;49m\u001B[43m:\u001B[49m\u001B[43m \u001B[49m\u001B[43m[\u001B[49m\u001B[38;5;124;43m'\u001B[39;49m\u001B[38;5;124;43mBC-RESNET-RNN\u001B[39;49m\u001B[38;5;124;43m'\u001B[39;49m\u001B[43m,\u001B[49m\u001B[43m \u001B[49m\u001B[38;5;124;43m'\u001B[39;49m\u001B[38;5;124;43mBC-RESNET-T\u001B[39;49m\u001B[38;5;124;43m'\u001B[39;49m\u001B[43m,\u001B[49m\u001B[43m \u001B[49m\u001B[38;5;124;43m'\u001B[39;49m\u001B[38;5;124;43mBC-VIT-T\u001B[39;49m\u001B[38;5;124;43m'\u001B[39;49m\u001B[43m,\u001B[49m\u001B[43m \u001B[49m\u001B[38;5;124;43m'\u001B[39;49m\u001B[38;5;124;43mOpenVLA\u001B[39;49m\u001B[38;5;124;43m'\u001B[39;49m\u001B[43m]\u001B[49m\u001B[43m \u001B[49m\u001B[38;5;241;43m*\u001B[39;49m\u001B[43m \u001B[49m\u001B[38;5;241;43m11\u001B[39;49m\u001B[43m,\u001B[49m\n\u001B[1;32m     46\u001B[0m \u001B[43m    \u001B[49m\u001B[38;5;124;43m\"\u001B[39;49m\u001B[38;5;124;43mTask\u001B[39;49m\u001B[38;5;124;43m\"\u001B[39;49m\u001B[43m:\u001B[49m\u001B[43m \u001B[49m\u001B[38;5;28;43mlist\u001B[39;49m\u001B[43m(\u001B[49m\u001B[38;5;28;43mrange\u001B[39;49m\u001B[43m(\u001B[49m\u001B[38;5;241;43m22\u001B[39;49m\u001B[43m,\u001B[49m\u001B[43m \u001B[49m\u001B[38;5;241;43m44\u001B[39;49m\u001B[43m)\u001B[49m\u001B[43m)\u001B[49m\u001B[43m \u001B[49m\u001B[38;5;241;43m*\u001B[39;49m\u001B[43m \u001B[49m\u001B[38;5;241;43m4\u001B[39;49m\u001B[43m,\u001B[49m\n\u001B[1;32m     47\u001B[0m \u001B[43m    \u001B[49m\u001B[38;5;124;43m\"\u001B[39;49m\u001B[38;5;124;43mSR_ORI\u001B[39;49m\u001B[38;5;124;43m\"\u001B[39;49m\u001B[43m:\u001B[49m\u001B[43m \u001B[49m\u001B[43m[\u001B[49m\u001B[43mitem\u001B[49m\u001B[43m \u001B[49m\u001B[38;5;28;43;01mfor\u001B[39;49;00m\u001B[43m \u001B[49m\u001B[43msublist\u001B[49m\u001B[43m \u001B[49m\u001B[38;5;129;43;01min\u001B[39;49;00m\u001B[43m \u001B[49m\u001B[43msr_ori_data_combined\u001B[49m\u001B[43m \u001B[49m\u001B[38;5;28;43;01mfor\u001B[39;49;00m\u001B[43m \u001B[49m\u001B[43mitem\u001B[49m\u001B[43m \u001B[49m\u001B[38;5;129;43;01min\u001B[39;49;00m\u001B[43m \u001B[49m\u001B[43msublist\u001B[49m\u001B[43m]\u001B[49m\u001B[43m,\u001B[49m\n\u001B[1;32m     48\u001B[0m \u001B[43m    \u001B[49m\u001B[38;5;124;43m\"\u001B[39;49m\u001B[38;5;124;43mSR_MOD\u001B[39;49m\u001B[38;5;124;43m\"\u001B[39;49m\u001B[43m:\u001B[49m\u001B[43m \u001B[49m\u001B[43m[\u001B[49m\u001B[43mitem\u001B[49m\u001B[43m \u001B[49m\u001B[38;5;28;43;01mfor\u001B[39;49;00m\u001B[43m \u001B[49m\u001B[43msublist\u001B[49m\u001B[43m \u001B[49m\u001B[38;5;129;43;01min\u001B[39;49;00m\u001B[43m \u001B[49m\u001B[43msr_mod_data_combined\u001B[49m\u001B[43m \u001B[49m\u001B[38;5;28;43;01mfor\u001B[39;49;00m\u001B[43m \u001B[49m\u001B[43mitem\u001B[49m\u001B[43m \u001B[49m\u001B[38;5;129;43;01min\u001B[39;49;00m\u001B[43m \u001B[49m\u001B[43msublist\u001B[49m\u001B[43m]\u001B[49m\u001B[43m,\u001B[49m\n\u001B[1;32m     49\u001B[0m \u001B[43m    \u001B[49m\u001B[38;5;124;43m\"\u001B[39;49m\u001B[38;5;124;43mPD\u001B[39;49m\u001B[38;5;124;43m\"\u001B[39;49m\u001B[43m:\u001B[49m\u001B[43m \u001B[49m\u001B[43m[\u001B[49m\u001B[43mitem\u001B[49m\u001B[43m \u001B[49m\u001B[38;5;28;43;01mfor\u001B[39;49;00m\u001B[43m \u001B[49m\u001B[43msublist\u001B[49m\u001B[43m \u001B[49m\u001B[38;5;129;43;01min\u001B[39;49;00m\u001B[43m \u001B[49m\u001B[43mpd_data_combined\u001B[49m\u001B[43m \u001B[49m\u001B[38;5;28;43;01mfor\u001B[39;49;00m\u001B[43m \u001B[49m\u001B[43mitem\u001B[49m\u001B[43m \u001B[49m\u001B[38;5;129;43;01min\u001B[39;49;00m\u001B[43m \u001B[49m\u001B[43msublist\u001B[49m\u001B[43m]\u001B[49m\n\u001B[1;32m     50\u001B[0m \u001B[43m}\u001B[49m\u001B[43m)\u001B[49m\n\u001B[1;32m     52\u001B[0m \u001B[38;5;66;03m# Display the combined DataFrame\u001B[39;00m\n\u001B[1;32m     53\u001B[0m \u001B[38;5;28;01mimport\u001B[39;00m \u001B[38;5;21;01mace_tools\u001B[39;00m \u001B[38;5;28;01mas\u001B[39;00m \u001B[38;5;21;01mtools\u001B[39;00m; tools\u001B[38;5;241m.\u001B[39mdisplay_dataframe_to_user(name\u001B[38;5;241m=\u001B[39m\u001B[38;5;124m\"\u001B[39m\u001B[38;5;124mCombined Data Table\u001B[39m\u001B[38;5;124m\"\u001B[39m, dataframe\u001B[38;5;241m=\u001B[39mdf_combined)\n",
      "File \u001B[0;32m~/.local/lib/python3.8/site-packages/pandas/core/frame.py:709\u001B[0m, in \u001B[0;36mDataFrame.__init__\u001B[0;34m(self, data, index, columns, dtype, copy)\u001B[0m\n\u001B[1;32m    703\u001B[0m     mgr \u001B[38;5;241m=\u001B[39m \u001B[38;5;28mself\u001B[39m\u001B[38;5;241m.\u001B[39m_init_mgr(\n\u001B[1;32m    704\u001B[0m         data, axes\u001B[38;5;241m=\u001B[39m{\u001B[38;5;124m\"\u001B[39m\u001B[38;5;124mindex\u001B[39m\u001B[38;5;124m\"\u001B[39m: index, \u001B[38;5;124m\"\u001B[39m\u001B[38;5;124mcolumns\u001B[39m\u001B[38;5;124m\"\u001B[39m: columns}, dtype\u001B[38;5;241m=\u001B[39mdtype, copy\u001B[38;5;241m=\u001B[39mcopy\n\u001B[1;32m    705\u001B[0m     )\n\u001B[1;32m    707\u001B[0m \u001B[38;5;28;01melif\u001B[39;00m \u001B[38;5;28misinstance\u001B[39m(data, \u001B[38;5;28mdict\u001B[39m):\n\u001B[1;32m    708\u001B[0m     \u001B[38;5;66;03m# GH#38939 de facto copy defaults to False only in non-dict cases\u001B[39;00m\n\u001B[0;32m--> 709\u001B[0m     mgr \u001B[38;5;241m=\u001B[39m \u001B[43mdict_to_mgr\u001B[49m\u001B[43m(\u001B[49m\u001B[43mdata\u001B[49m\u001B[43m,\u001B[49m\u001B[43m \u001B[49m\u001B[43mindex\u001B[49m\u001B[43m,\u001B[49m\u001B[43m \u001B[49m\u001B[43mcolumns\u001B[49m\u001B[43m,\u001B[49m\u001B[43m \u001B[49m\u001B[43mdtype\u001B[49m\u001B[38;5;241;43m=\u001B[39;49m\u001B[43mdtype\u001B[49m\u001B[43m,\u001B[49m\u001B[43m \u001B[49m\u001B[43mcopy\u001B[49m\u001B[38;5;241;43m=\u001B[39;49m\u001B[43mcopy\u001B[49m\u001B[43m,\u001B[49m\u001B[43m \u001B[49m\u001B[43mtyp\u001B[49m\u001B[38;5;241;43m=\u001B[39;49m\u001B[43mmanager\u001B[49m\u001B[43m)\u001B[49m\n\u001B[1;32m    710\u001B[0m \u001B[38;5;28;01melif\u001B[39;00m \u001B[38;5;28misinstance\u001B[39m(data, ma\u001B[38;5;241m.\u001B[39mMaskedArray):\n\u001B[1;32m    711\u001B[0m     \u001B[38;5;28;01mfrom\u001B[39;00m \u001B[38;5;21;01mnumpy\u001B[39;00m\u001B[38;5;21;01m.\u001B[39;00m\u001B[38;5;21;01mma\u001B[39;00m \u001B[38;5;28;01mimport\u001B[39;00m mrecords\n",
      "File \u001B[0;32m~/.local/lib/python3.8/site-packages/pandas/core/internals/construction.py:481\u001B[0m, in \u001B[0;36mdict_to_mgr\u001B[0;34m(data, index, columns, dtype, typ, copy)\u001B[0m\n\u001B[1;32m    477\u001B[0m     \u001B[38;5;28;01melse\u001B[39;00m:\n\u001B[1;32m    478\u001B[0m         \u001B[38;5;66;03m# dtype check to exclude e.g. range objects, scalars\u001B[39;00m\n\u001B[1;32m    479\u001B[0m         arrays \u001B[38;5;241m=\u001B[39m [x\u001B[38;5;241m.\u001B[39mcopy() \u001B[38;5;28;01mif\u001B[39;00m \u001B[38;5;28mhasattr\u001B[39m(x, \u001B[38;5;124m\"\u001B[39m\u001B[38;5;124mdtype\u001B[39m\u001B[38;5;124m\"\u001B[39m) \u001B[38;5;28;01melse\u001B[39;00m x \u001B[38;5;28;01mfor\u001B[39;00m x \u001B[38;5;129;01min\u001B[39;00m arrays]\n\u001B[0;32m--> 481\u001B[0m \u001B[38;5;28;01mreturn\u001B[39;00m \u001B[43marrays_to_mgr\u001B[49m\u001B[43m(\u001B[49m\u001B[43marrays\u001B[49m\u001B[43m,\u001B[49m\u001B[43m \u001B[49m\u001B[43mcolumns\u001B[49m\u001B[43m,\u001B[49m\u001B[43m \u001B[49m\u001B[43mindex\u001B[49m\u001B[43m,\u001B[49m\u001B[43m \u001B[49m\u001B[43mdtype\u001B[49m\u001B[38;5;241;43m=\u001B[39;49m\u001B[43mdtype\u001B[49m\u001B[43m,\u001B[49m\u001B[43m \u001B[49m\u001B[43mtyp\u001B[49m\u001B[38;5;241;43m=\u001B[39;49m\u001B[43mtyp\u001B[49m\u001B[43m,\u001B[49m\u001B[43m \u001B[49m\u001B[43mconsolidate\u001B[49m\u001B[38;5;241;43m=\u001B[39;49m\u001B[43mcopy\u001B[49m\u001B[43m)\u001B[49m\n",
      "File \u001B[0;32m~/.local/lib/python3.8/site-packages/pandas/core/internals/construction.py:115\u001B[0m, in \u001B[0;36marrays_to_mgr\u001B[0;34m(arrays, columns, index, dtype, verify_integrity, typ, consolidate)\u001B[0m\n\u001B[1;32m    112\u001B[0m \u001B[38;5;28;01mif\u001B[39;00m verify_integrity:\n\u001B[1;32m    113\u001B[0m     \u001B[38;5;66;03m# figure out the index, if necessary\u001B[39;00m\n\u001B[1;32m    114\u001B[0m     \u001B[38;5;28;01mif\u001B[39;00m index \u001B[38;5;129;01mis\u001B[39;00m \u001B[38;5;28;01mNone\u001B[39;00m:\n\u001B[0;32m--> 115\u001B[0m         index \u001B[38;5;241m=\u001B[39m \u001B[43m_extract_index\u001B[49m\u001B[43m(\u001B[49m\u001B[43marrays\u001B[49m\u001B[43m)\u001B[49m\n\u001B[1;32m    116\u001B[0m     \u001B[38;5;28;01melse\u001B[39;00m:\n\u001B[1;32m    117\u001B[0m         index \u001B[38;5;241m=\u001B[39m ensure_index(index)\n",
      "File \u001B[0;32m~/.local/lib/python3.8/site-packages/pandas/core/internals/construction.py:655\u001B[0m, in \u001B[0;36m_extract_index\u001B[0;34m(data)\u001B[0m\n\u001B[1;32m    653\u001B[0m lengths \u001B[38;5;241m=\u001B[39m \u001B[38;5;28mlist\u001B[39m(\u001B[38;5;28mset\u001B[39m(raw_lengths))\n\u001B[1;32m    654\u001B[0m \u001B[38;5;28;01mif\u001B[39;00m \u001B[38;5;28mlen\u001B[39m(lengths) \u001B[38;5;241m>\u001B[39m \u001B[38;5;241m1\u001B[39m:\n\u001B[0;32m--> 655\u001B[0m     \u001B[38;5;28;01mraise\u001B[39;00m \u001B[38;5;167;01mValueError\u001B[39;00m(\u001B[38;5;124m\"\u001B[39m\u001B[38;5;124mAll arrays must be of the same length\u001B[39m\u001B[38;5;124m\"\u001B[39m)\n\u001B[1;32m    657\u001B[0m \u001B[38;5;28;01mif\u001B[39;00m have_dicts:\n\u001B[1;32m    658\u001B[0m     \u001B[38;5;28;01mraise\u001B[39;00m \u001B[38;5;167;01mValueError\u001B[39;00m(\n\u001B[1;32m    659\u001B[0m         \u001B[38;5;124m\"\u001B[39m\u001B[38;5;124mMixing dicts with non-Series may lead to ambiguous ordering.\u001B[39m\u001B[38;5;124m\"\u001B[39m\n\u001B[1;32m    660\u001B[0m     )\n",
      "\u001B[0;31mValueError\u001B[0m: All arrays must be of the same length"
     ]
    }
   ],
   "execution_count": 2
  },
  {
   "metadata": {},
   "cell_type": "code",
   "outputs": [],
   "execution_count": null,
   "source": "",
   "id": "2062983a1326e509"
  }
 ],
 "metadata": {
  "kernelspec": {
   "display_name": "Python 3",
   "language": "python",
   "name": "python3"
  },
  "language_info": {
   "codemirror_mode": {
    "name": "ipython",
    "version": 2
   },
   "file_extension": ".py",
   "mimetype": "text/x-python",
   "name": "python",
   "nbconvert_exporter": "python",
   "pygments_lexer": "ipython2",
   "version": "2.7.6"
  }
 },
 "nbformat": 4,
 "nbformat_minor": 5
}
