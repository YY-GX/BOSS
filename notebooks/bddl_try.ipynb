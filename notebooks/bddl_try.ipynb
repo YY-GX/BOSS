{
 "cells": [
  {
   "cell_type": "code",
   "execution_count": 1,
   "id": "initial_id",
   "metadata": {
    "collapsed": true,
    "ExecuteTime": {
     "end_time": "2024-11-05T21:19:26.881706809Z",
     "start_time": "2024-11-05T21:19:25.983209691Z"
    }
   },
   "outputs": [
    {
     "name": "stderr",
     "output_type": "stream",
     "text": [
      "\u001B[1m\u001B[33m[robosuite WARNING] \u001B[0mNo private macro file found! (macros.py:53)\n",
      "\u001B[1m\u001B[33m[robosuite WARNING] \u001B[0mIt is recommended to use a private macro file (macros.py:54)\n",
      "\u001B[1m\u001B[33m[robosuite WARNING] \u001B[0mTo setup, run: python /home/yygx/anaconda3/envs/libero/lib/python3.8/site-packages/robosuite/scripts/setup_macros.py (macros.py:55)\n"
     ]
    }
   ],
   "source": [
    "import libero.libero.envs.bddl_utils as BDDLUtils"
   ]
  },
  {
   "cell_type": "code",
   "execution_count": 38,
   "outputs": [],
   "source": [
    "import libero.libero.envs.bddl_utils as BDDLUtils\n",
    "parsed_problem = BDDLUtils.robosuite_parse_problem(\"/home/yygx/Dropbox/Codes/UNC_Research/pkgs_simu/LIBERO/libero/libero/bddl_files/libero_90/KITCHEN_SCENE1_open_the_bottom_drawer_of_the_cabinet.bddl\")"
   ],
   "metadata": {
    "collapsed": false,
    "ExecuteTime": {
     "end_time": "2024-11-05T22:27:02.618516073Z",
     "start_time": "2024-11-05T22:27:02.616772368Z"
    }
   },
   "id": "d104a02596ae4119"
  },
  {
   "cell_type": "code",
   "execution_count": 39,
   "outputs": [
    {
     "data": {
      "text/plain": "{'problem_name': 'libero_kitchen_tabletop_manipulation',\n 'fixtures': {'kitchen_table': ['kitchen_table'],\n  'wooden_cabinet': ['wooden_cabinet_1']},\n 'regions': {'kitchen_table_wooden_cabinet_init_region': {'target': 'kitchen_table',\n   'ranges': [[-1e-10, -0.3, 0.0, -0.29999999999]],\n   'extra': [],\n   'yaw_rotation': [3.141592653589793, 3.141592653589793],\n   'rgba': [0, 0, 1, 0]},\n  'kitchen_table_akita_black_bowl_init_region': {'target': 'kitchen_table',\n   'ranges': [[-0.025, -0.025, 0.025, 0.025]],\n   'extra': [],\n   'yaw_rotation': [0.0, 0.0],\n   'rgba': [0, 0, 1, 0]},\n  'kitchen_table_plate_init_region': {'target': 'kitchen_table',\n   'ranges': [[-0.025, 0.225, 0.025, 0.275]],\n   'extra': [],\n   'yaw_rotation': [0.0, 0.0],\n   'rgba': [0, 0, 1, 0]},\n  'wooden_cabinet_1_top_side': {'target': 'wooden_cabinet_1',\n   'ranges': [],\n   'extra': [],\n   'yaw_rotation': [0, 0],\n   'rgba': [0, 0, 1, 0]},\n  'wooden_cabinet_1_top_region': {'target': 'wooden_cabinet_1',\n   'ranges': [],\n   'extra': [],\n   'yaw_rotation': [0, 0],\n   'rgba': [0, 0, 1, 0]},\n  'wooden_cabinet_1_middle_region': {'target': 'wooden_cabinet_1',\n   'ranges': [],\n   'extra': [],\n   'yaw_rotation': [0, 0],\n   'rgba': [0, 0, 1, 0]},\n  'wooden_cabinet_1_bottom_region': {'target': 'wooden_cabinet_1',\n   'ranges': [],\n   'extra': [],\n   'yaw_rotation': [0, 0],\n   'rgba': [0, 0, 1, 0]}},\n 'objects': {'akita_black_bowl': ['akita_black_bowl_1'], 'plate': ['plate_1']},\n 'scene_properties': {},\n 'initial_state': [['on',\n   'akita_black_bowl_1',\n   'kitchen_table_akita_black_bowl_init_region'],\n  ['on', 'plate_1', 'kitchen_table_plate_init_region'],\n  ['on', 'wooden_cabinet_1', 'kitchen_table_wooden_cabinet_init_region']],\n 'goal_state': [['open', 'wooden_cabinet_1_bottom_region']],\n 'language_instruction': ['open',\n  'the',\n  'bottom',\n  'drawer',\n  'of',\n  'the',\n  'cabinet'],\n 'obj_of_interest': ['wooden_cabinet_1']}"
     },
     "execution_count": 39,
     "metadata": {},
     "output_type": "execute_result"
    }
   ],
   "source": [
    "parsed_problem"
   ],
   "metadata": {
    "collapsed": false,
    "ExecuteTime": {
     "end_time": "2024-11-05T22:27:02.998555106Z",
     "start_time": "2024-11-05T22:27:02.957376620Z"
    }
   },
   "id": "842d5d319aeb03fc"
  },
  {
   "cell_type": "code",
   "execution_count": 40,
   "outputs": [
    {
     "data": {
      "text/plain": "dict_keys(['problem_name', 'fixtures', 'regions', 'objects', 'scene_properties', 'initial_state', 'goal_state', 'language_instruction', 'obj_of_interest'])"
     },
     "execution_count": 40,
     "metadata": {},
     "output_type": "execute_result"
    }
   ],
   "source": [
    "parsed_problem.keys()"
   ],
   "metadata": {
    "collapsed": false,
    "ExecuteTime": {
     "end_time": "2024-11-05T22:27:04.337163033Z",
     "start_time": "2024-11-05T22:27:04.334529085Z"
    }
   },
   "id": "2bf1588f7d5f382c"
  },
  {
   "cell_type": "code",
   "execution_count": 41,
   "outputs": [
    {
     "data": {
      "text/plain": "[['on', 'akita_black_bowl_1', 'kitchen_table_akita_black_bowl_init_region'],\n ['on', 'plate_1', 'kitchen_table_plate_init_region'],\n ['on', 'wooden_cabinet_1', 'kitchen_table_wooden_cabinet_init_region']]"
     },
     "execution_count": 41,
     "metadata": {},
     "output_type": "execute_result"
    }
   ],
   "source": [
    "parsed_problem['initial_state']"
   ],
   "metadata": {
    "collapsed": false,
    "ExecuteTime": {
     "end_time": "2024-11-05T22:27:04.591168261Z",
     "start_time": "2024-11-05T22:27:04.550560165Z"
    }
   },
   "id": "4668becf412f2e88"
  },
  {
   "cell_type": "code",
   "execution_count": 42,
   "outputs": [
    {
     "data": {
      "text/plain": "{'akita_black_bowl': ['akita_black_bowl_1'], 'plate': ['plate_1']}"
     },
     "execution_count": 42,
     "metadata": {},
     "output_type": "execute_result"
    }
   ],
   "source": [
    "parsed_problem['objects']"
   ],
   "metadata": {
    "collapsed": false,
    "ExecuteTime": {
     "end_time": "2024-11-05T22:27:06.348175811Z",
     "start_time": "2024-11-05T22:27:06.343724677Z"
    }
   },
   "id": "656ee35f34b161c8"
  },
  {
   "cell_type": "code",
   "execution_count": 43,
   "outputs": [
    {
     "data": {
      "text/plain": "{'kitchen_table_wooden_cabinet_init_region': {'target': 'kitchen_table',\n  'ranges': [[-1e-10, -0.3, 0.0, -0.29999999999]],\n  'extra': [],\n  'yaw_rotation': [3.141592653589793, 3.141592653589793],\n  'rgba': [0, 0, 1, 0]},\n 'kitchen_table_akita_black_bowl_init_region': {'target': 'kitchen_table',\n  'ranges': [[-0.025, -0.025, 0.025, 0.025]],\n  'extra': [],\n  'yaw_rotation': [0.0, 0.0],\n  'rgba': [0, 0, 1, 0]},\n 'kitchen_table_plate_init_region': {'target': 'kitchen_table',\n  'ranges': [[-0.025, 0.225, 0.025, 0.275]],\n  'extra': [],\n  'yaw_rotation': [0.0, 0.0],\n  'rgba': [0, 0, 1, 0]},\n 'wooden_cabinet_1_top_side': {'target': 'wooden_cabinet_1',\n  'ranges': [],\n  'extra': [],\n  'yaw_rotation': [0, 0],\n  'rgba': [0, 0, 1, 0]},\n 'wooden_cabinet_1_top_region': {'target': 'wooden_cabinet_1',\n  'ranges': [],\n  'extra': [],\n  'yaw_rotation': [0, 0],\n  'rgba': [0, 0, 1, 0]},\n 'wooden_cabinet_1_middle_region': {'target': 'wooden_cabinet_1',\n  'ranges': [],\n  'extra': [],\n  'yaw_rotation': [0, 0],\n  'rgba': [0, 0, 1, 0]},\n 'wooden_cabinet_1_bottom_region': {'target': 'wooden_cabinet_1',\n  'ranges': [],\n  'extra': [],\n  'yaw_rotation': [0, 0],\n  'rgba': [0, 0, 1, 0]}}"
     },
     "execution_count": 43,
     "metadata": {},
     "output_type": "execute_result"
    }
   ],
   "source": [
    "parsed_problem['regions']"
   ],
   "metadata": {
    "collapsed": false,
    "ExecuteTime": {
     "end_time": "2024-11-05T22:27:06.522969109Z",
     "start_time": "2024-11-05T22:27:06.519134154Z"
    }
   },
   "id": "8af682491b4de445"
  },
  {
   "cell_type": "code",
   "execution_count": 46,
   "outputs": [
    {
     "data": {
      "text/plain": "[['open', 'wooden_cabinet_1_bottom_region']]"
     },
     "execution_count": 46,
     "metadata": {},
     "output_type": "execute_result"
    }
   ],
   "source": [
    "parsed_problem['goal_state']"
   ],
   "metadata": {
    "collapsed": false,
    "ExecuteTime": {
     "end_time": "2024-11-05T22:37:54.794664872Z",
     "start_time": "2024-11-05T22:37:54.790668510Z"
    }
   },
   "id": "f30f3369ee28381"
  },
  {
   "cell_type": "code",
   "execution_count": 29,
   "outputs": [],
   "source": [
    "parsed_problem_modified = BDDLUtils.robosuite_parse_problem(\"./KITCHEN_SCENE1_open_the_bottom_drawer_of_the_cabinet_modified.bddl\")"
   ],
   "metadata": {
    "collapsed": false,
    "ExecuteTime": {
     "end_time": "2024-11-05T21:57:07.742509679Z",
     "start_time": "2024-11-05T21:57:07.740288470Z"
    }
   },
   "id": "70e12780773c66f5"
  },
  {
   "cell_type": "code",
   "execution_count": 30,
   "outputs": [
    {
     "data": {
      "text/plain": "dict_keys(['problem_name', 'fixtures', 'regions', 'objects', 'scene_properties', 'initial_state', 'goal_state', 'language_instruction', 'obj_of_interest'])"
     },
     "execution_count": 30,
     "metadata": {},
     "output_type": "execute_result"
    }
   ],
   "source": [
    "parsed_problem_modified.keys()"
   ],
   "metadata": {
    "collapsed": false,
    "ExecuteTime": {
     "end_time": "2024-11-05T21:57:08.125117342Z",
     "start_time": "2024-11-05T21:57:08.122616372Z"
    }
   },
   "id": "a9437d50a0582bed"
  },
  {
   "cell_type": "code",
   "execution_count": 31,
   "outputs": [
    {
     "data": {
      "text/plain": "{'kitchen_table_kitchen_table_wooden_cabinet_init_region': {'target': 'kitchen_table',\n  'ranges': [[-1e-10, -0.3, 0.0, -0.29999999999]],\n  'extra': [],\n  'yaw_rotation': [3.141592653589793],\n  'rgba': [0, 0, 1, 0]},\n 'kitchen_table_kitchen_table_akita_black_bowl_init_region': {'target': 'kitchen_table',\n  'ranges': [[-0.025, -0.025, 0.025, 0.025]],\n  'extra': [],\n  'yaw_rotation': [0.0],\n  'rgba': [0, 0, 1, 0]},\n 'kitchen_table_kitchen_table_plate_init_region': {'target': 'kitchen_table',\n  'ranges': [[-0.025, 0.225, 0.025, 0.275]],\n  'extra': [],\n  'yaw_rotation': [0.0],\n  'rgba': [0, 0, 1, 0]},\n 'wooden_cabinet_1_wooden_cabinet_1_top_side': {'target': 'wooden_cabinet_1',\n  'ranges': [],\n  'extra': [],\n  'yaw_rotation': [0],\n  'rgba': [0, 0, 1, 0]},\n 'wooden_cabinet_1_wooden_cabinet_1_top_region': {'target': 'wooden_cabinet_1',\n  'ranges': [],\n  'extra': [],\n  'yaw_rotation': [0],\n  'rgba': [0, 0, 1, 0]},\n 'wooden_cabinet_1_wooden_cabinet_1_middle_region': {'target': 'wooden_cabinet_1',\n  'ranges': [],\n  'extra': [],\n  'yaw_rotation': [0],\n  'rgba': [0, 0, 1, 0]},\n 'wooden_cabinet_1_wooden_cabinet_1_bottom_region': {'target': 'wooden_cabinet_1',\n  'ranges': [],\n  'extra': [],\n  'yaw_rotation': [0],\n  'rgba': [0, 0, 1, 0]}}"
     },
     "execution_count": 31,
     "metadata": {},
     "output_type": "execute_result"
    }
   ],
   "source": [
    "parsed_problem_modified['regions']"
   ],
   "metadata": {
    "collapsed": false,
    "ExecuteTime": {
     "end_time": "2024-11-05T21:57:08.619725997Z",
     "start_time": "2024-11-05T21:57:08.604843022Z"
    }
   },
   "id": "4df6b8e482170536"
  },
  {
   "cell_type": "code",
   "execution_count": 19,
   "outputs": [
    {
     "data": {
      "text/plain": "{'kitchen_table_wooden_cabinet_init_region': {'target': 'kitchen_table',\n  'ranges': [[-1e-10, -0.3, 0.0, -0.29999999999]],\n  'extra': [],\n  'yaw_rotation': [3.141592653589793, 3.141592653589793],\n  'rgba': [0, 0, 1, 0]},\n 'kitchen_table_akita_black_bowl_init_region': {'target': 'kitchen_table',\n  'ranges': [[-0.025, -0.025, 0.025, 0.025]],\n  'extra': [],\n  'yaw_rotation': [0.0, 0.0],\n  'rgba': [0, 0, 1, 0]},\n 'kitchen_table_plate_init_region': {'target': 'kitchen_table',\n  'ranges': [[-0.025, 0.225, 0.025, 0.275]],\n  'extra': [],\n  'yaw_rotation': [0.0, 0.0],\n  'rgba': [0, 0, 1, 0]},\n 'wooden_cabinet_1_top_side': {'target': 'wooden_cabinet_1',\n  'ranges': [],\n  'extra': [],\n  'yaw_rotation': [0, 0],\n  'rgba': [0, 0, 1, 0]},\n 'wooden_cabinet_1_top_region': {'target': 'wooden_cabinet_1',\n  'ranges': [],\n  'extra': [],\n  'yaw_rotation': [0, 0],\n  'rgba': [0, 0, 1, 0]},\n 'wooden_cabinet_1_middle_region': {'target': 'wooden_cabinet_1',\n  'ranges': [],\n  'extra': [],\n  'yaw_rotation': [0, 0],\n  'rgba': [0, 0, 1, 0]},\n 'wooden_cabinet_1_bottom_region': {'target': 'wooden_cabinet_1',\n  'ranges': [],\n  'extra': [],\n  'yaw_rotation': [0, 0],\n  'rgba': [0, 0, 1, 0]}}"
     },
     "execution_count": 19,
     "metadata": {},
     "output_type": "execute_result"
    }
   ],
   "source": [
    "parsed_problem['regions']"
   ],
   "metadata": {
    "collapsed": false,
    "ExecuteTime": {
     "end_time": "2024-11-05T21:42:28.273385085Z",
     "start_time": "2024-11-05T21:42:28.254535959Z"
    }
   },
   "id": "9bd66503c9efc45b"
  },
  {
   "cell_type": "code",
   "execution_count": 47,
   "outputs": [
    {
     "data": {
      "text/plain": "['wooden_cabinet_1']"
     },
     "execution_count": 47,
     "metadata": {},
     "output_type": "execute_result"
    }
   ],
   "source": [
    "parsed_problem['obj_of_interest']"
   ],
   "metadata": {
    "collapsed": false,
    "ExecuteTime": {
     "end_time": "2024-11-05T22:39:26.788961086Z",
     "start_time": "2024-11-05T22:39:26.780806945Z"
    }
   },
   "id": "507b5f541a6cfc49"
  },
  {
   "cell_type": "code",
   "execution_count": null,
   "outputs": [],
   "source": [],
   "metadata": {
    "collapsed": false
   },
   "id": "8e18d81e2689f570"
  }
 ],
 "metadata": {
  "kernelspec": {
   "display_name": "Python 3",
   "language": "python",
   "name": "python3"
  },
  "language_info": {
   "codemirror_mode": {
    "name": "ipython",
    "version": 2
   },
   "file_extension": ".py",
   "mimetype": "text/x-python",
   "name": "python",
   "nbconvert_exporter": "python",
   "pygments_lexer": "ipython2",
   "version": "2.7.6"
  }
 },
 "nbformat": 4,
 "nbformat_minor": 5
}
